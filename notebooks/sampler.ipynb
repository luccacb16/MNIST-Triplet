{
 "cells": [
  {
   "cell_type": "code",
   "execution_count": 1,
   "metadata": {},
   "outputs": [],
   "source": [
    "import pandas as pd\n",
    "from torch.utils.data import DataLoader\n",
    "import sys\n",
    "import os\n",
    "\n",
    "# Adiciona o diretório pai ao path\n",
    "sys.path.append(os.path.abspath('../'))\n",
    "\n",
    "from utils import parse_args, simple_transform, aug_transform, TripletDataset, BalancedBatchSampler, TripletLoss"
   ]
  },
  {
   "cell_type": "code",
   "execution_count": 12,
   "metadata": {},
   "outputs": [],
   "source": [
    "df = pd.read_csv('../data/mnist_train.csv')\n",
    "\n",
    "df = df.sample(n=25600).reset_index(drop=True)\n",
    "\n",
    "dataset = TripletDataset(df, transform=simple_transform)\n",
    "sampler = BalancedBatchSampler(labels=dataset.labels, n_classes=10, batch_size=1024)\n",
    "dataloader = DataLoader(dataset, batch_sampler=sampler)"
   ]
  },
  {
   "cell_type": "code",
   "execution_count": 13,
   "metadata": {},
   "outputs": [],
   "source": [
    "# Itera pelo dataloader, salvando a quantidade de cada classe em um dicionário\n",
    "classes = {}\n",
    "\n",
    "# Contar quantos de cada classe num batch\n",
    "for i, batch in enumerate(dataloader):\n",
    "    _, labels = batch\n",
    "    for label in labels:\n",
    "        if label.item() in classes:\n",
    "            classes[label.item()] += 1\n",
    "        else:\n",
    "            classes[label.item()] = 1\n",
    "    break"
   ]
  },
  {
   "cell_type": "code",
   "execution_count": 14,
   "metadata": {},
   "outputs": [],
   "source": [
    "# Converter o dicionário para um dataframe\n",
    "df = pd.DataFrame.from_dict(classes, orient='index', columns=['count'])"
   ]
  },
  {
   "cell_type": "code",
   "execution_count": 34,
   "metadata": {},
   "outputs": [
    {
     "data": {
      "text/html": [
       "<div>\n",
       "<style scoped>\n",
       "    .dataframe tbody tr th:only-of-type {\n",
       "        vertical-align: middle;\n",
       "    }\n",
       "\n",
       "    .dataframe tbody tr th {\n",
       "        vertical-align: top;\n",
       "    }\n",
       "\n",
       "    .dataframe thead th {\n",
       "        text-align: right;\n",
       "    }\n",
       "</style>\n",
       "<table border=\"1\" class=\"dataframe\">\n",
       "  <thead>\n",
       "    <tr style=\"text-align: right;\">\n",
       "      <th></th>\n",
       "      <th>0</th>\n",
       "      <th>1</th>\n",
       "      <th>2</th>\n",
       "      <th>3</th>\n",
       "      <th>4</th>\n",
       "      <th>5</th>\n",
       "      <th>6</th>\n",
       "      <th>7</th>\n",
       "      <th>8</th>\n",
       "      <th>9</th>\n",
       "      <th>Total</th>\n",
       "    </tr>\n",
       "  </thead>\n",
       "  <tbody>\n",
       "    <tr>\n",
       "      <th>count</th>\n",
       "      <td>102</td>\n",
       "      <td>103</td>\n",
       "      <td>103</td>\n",
       "      <td>102</td>\n",
       "      <td>102</td>\n",
       "      <td>102</td>\n",
       "      <td>103</td>\n",
       "      <td>102</td>\n",
       "      <td>102</td>\n",
       "      <td>103</td>\n",
       "      <td>1024</td>\n",
       "    </tr>\n",
       "  </tbody>\n",
       "</table>\n",
       "</div>"
      ],
      "text/plain": [
       "         0    1    2    3    4    5    6    7    8    9  Total\n",
       "count  102  103  103  102  102  102  103  102  102  103   1024"
      ]
     },
     "execution_count": 34,
     "metadata": {},
     "output_type": "execute_result"
    }
   ],
   "source": [
    "# Adicionar uma linha 'Total' com a soma\n",
    "pd.concat([df.sort_index(), pd.DataFrame(df.sum(), columns=['Total']).T]).T"
   ]
  }
 ],
 "metadata": {
  "kernelspec": {
   "display_name": "facenet",
   "language": "python",
   "name": "python3"
  },
  "language_info": {
   "codemirror_mode": {
    "name": "ipython",
    "version": 3
   },
   "file_extension": ".py",
   "mimetype": "text/x-python",
   "name": "python",
   "nbconvert_exporter": "python",
   "pygments_lexer": "ipython3",
   "version": "3.10.12"
  }
 },
 "nbformat": 4,
 "nbformat_minor": 2
}
